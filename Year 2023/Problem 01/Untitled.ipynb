{
 "cells": [
  {
   "cell_type": "code",
   "execution_count": null,
   "id": "48c6e810-1123-44dd-bcbb-5f11a5d30e5d",
   "metadata": {
    "tags": []
   },
   "outputs": [],
   "source": [
    "1+1"
   ]
  }
 ],
 "metadata": {
  "kernelspec": {
   "display_name": "Python 3 (ipykernel)",
   "language": "python",
   "name": "python3"
  },
  "language_info": {
   "name": ""
  }
 },
 "nbformat": 4,
 "nbformat_minor": 5
}
